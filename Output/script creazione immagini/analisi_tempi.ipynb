{
  "nbformat": 4,
  "nbformat_minor": 0,
  "metadata": {
    "colab": {
      "provenance": [],
      "collapsed_sections": []
    },
    "kernelspec": {
      "name": "python3",
      "display_name": "Python 3"
    },
    "language_info": {
      "name": "python"
    }
  },
  "cells": [
    {
      "cell_type": "code",
      "execution_count": null,
      "metadata": {
        "colab": {
          "base_uri": "https://localhost:8080/",
          "height": 521
        },
        "id": "Zhad03sjjBJm",
        "outputId": "378d2463-a8a6-4d00-fcc6-709cdeb8bcb3"
      },
      "outputs": [
        {
          "output_type": "stream",
          "name": "stdout",
          "text": [
            "   survived  pclass     sex   age  sibsp  parch     fare embarked  class  \\\n",
            "0         0       3    male  22.0      1      0   7.2500        S  Third   \n",
            "1         1       1  female  38.0      1      0  71.2833        C  First   \n",
            "2         1       3  female  26.0      0      0   7.9250        S  Third   \n",
            "3         1       1  female  35.0      1      0  53.1000        S  First   \n",
            "4         0       3    male  35.0      0      0   8.0500        S  Third   \n",
            "\n",
            "     who  adult_male deck  embark_town alive  alone  \n",
            "0    man        True  NaN  Southampton    no  False  \n",
            "1  woman       False    C    Cherbourg   yes  False  \n",
            "2  woman       False  NaN  Southampton   yes   True  \n",
            "3  woman       False    C  Southampton   yes  False  \n",
            "4    man        True  NaN  Southampton    no   True  \n"
          ]
        },
        {
          "output_type": "display_data",
          "data": {
            "text/plain": [
              "<Figure size 432x288 with 1 Axes>"
            ],
            "image/png": "[encoded data removed]"
          },
          "metadata": {
            "needs_background": "light"
          }
        }
      ],
      "source": [
        "# importing the required library\n",
        "import seaborn as sns\n",
        "import matplotlib.pyplot as plt\n",
        "import pandas as pd\n",
        " \n",
        "# read a titanic.csv file\n",
        "# from seaborn library\n",
        "df = sns.load_dataset('titanic')\n",
        "print(df.head())\n",
        "\n",
        "t=\"Query CMS\"\n",
        "\n",
        "\n",
        "data_spark={'query':['opere_sottocartelle','opere_sottocartelle','opere_sottocartelle','opere','opere','opere','get_visite','get_visite','get_visite','get_visite_and_write','get_visite_and_write','get_visite_and_write']\n",
        "      ,'input':['Input 1','Input 2','Input 3','Input 1','Input 2','Input 3','Input 1','Input 2','Input 3','Input 1','Input 2','Input 3']\n",
        "      ,'tempo':[3.1202,3.4044,4.5802,1.7408,2.0741,3.1180,0.5854,0.5663,1.1035,3.9016,5.4333,153.1805]}\n",
        "\n",
        "\n",
        "data_spark2={'query':['opere_sottocartelle','opere_sottocartelle','opere_sottocartelle','opere','opere','opere','get_visite','get_visite','get_visite']\n",
        "      ,'input':['Input 1','Input 2','Input 3','Input 1','Input 2','Input 3','Input 1','Input 2','Input 3']\n",
        "      ,'tempo':[3.1202,3.4044,4.5802,1.7408,2.0741,3.1180,0.5854,0.5663,1.1035]}\n",
        "\n",
        "data_cms={'query':['Q2','Q2','Q2','Q3','Q3','Q3','Q4','Q4','Q4','Q5','Q5','Q5','Q6','Q6','Q6']\n",
        "      ,'input':['Input 1','Input 2','Input 3','Input 1','Input 2','Input 3','Input 1','Input 2','Input 3','Input 1','Input 2','Input 3','Input 1','Input 2','Input 3']\n",
        "      ,'tempo':[0.001131,0.002339,0.001492,0.004366,0.024106,0.219407,0.004467,0.024837,0.177085,0.020891,1.851982,0,0.012458,0.080225,3.181484]}\n",
        "\n",
        "df=pd.DataFrame(data_cms)\n",
        " \n",
        "# who v/s fare barplot\n",
        "sns.barplot(x = 'query',\n",
        "            y = 'tempo',\n",
        "            hue = 'input',\n",
        "            data = df, log = True).set(title=t)\n",
        "# Show the plot\n",
        "plt.ylabel('tempo (log)')\n",
        "plt.show()"
      ]
    },
    {
      "cell_type": "code",
      "source": [
        "# importing the required library\n",
        "import seaborn as sns\n",
        "import matplotlib.pyplot as plt\n",
        "import pandas as pd\n",
        " \n",
        "t=\"Q6\"\n",
        "\n",
        "\n",
        "data={'input':['Input 1','Input 2','Input 3'],'tempo':[1,2,3]}\n",
        "opere_sottocartelle={'input':['Input 1','Input 2','Input 3'],'tempo':[3.1202,3.4044,4.5802]}\n",
        "opere={'input':['Input 1','Input 2','Input 3'],'tempo':[1.7408,2.0741,3.1180]}\n",
        "get_visite={'input':['Input 1','Input 2','Input 3'],'tempo':[0.5854,0.5663,1.1035]}\n",
        "get_visite_and_write={'input':['Input 1','Input 2','Input 3'],'tempo':[3.9016,5.4333,153.1805]}\n",
        "\n",
        "#CMS\n",
        "getOpere={'input':['Input 1','Input 2','Input 3'],'tempo':[0.001131,0.002339,0.001492]}\n",
        "getOpereSecolo={'input':['Input 1','Input 2','Input 3'],'tempo':[0.004366,0.024106,0.219407]}\n",
        "getOperePerVisite={'input':['Input 1','Input 2','Input 3'],'tempo':[0.004467,0.024837,0.177085]}\n",
        "getOpereSesso={'input':['Input 1','Input 2','Input 3'],'tempo':[0.020891,1.851982,0]}\n",
        "creaPercorso={'input':['Input 1','Input 2','Input 3'],'tempo':[0.012458,0.080225,3.181484]}\n",
        "\n",
        "\n",
        "\n",
        "\n",
        "\n",
        "\n",
        "\n",
        "\n",
        "\n",
        "df=pd.DataFrame(creaPercorso)\n",
        " \n",
        "# who v/s fare barplot\n",
        "sns.barplot(x = 'input',\n",
        "            y = 'tempo',\n",
        "            data = df, log=True).set(title=t)\n",
        "plt.ylabel('tempo (log)')\n",
        "# Show the plot\n",
        "plt.show()"
      ],
      "metadata": {
        "colab": {
          "base_uri": "https://localhost:8080/",
          "height": 295
        },
        "id": "JOkawwcxlp4L",
        "outputId": "fc02f946-196d-42bf-a991-0177f8006490"
      },
      "execution_count": null,
      "outputs": [
        {
          "output_type": "display_data",
          "data": {
            "text/plain": [
              "<Figure size 432x288 with 1 Axes>"
            ],
            "image/png": "[encoded data removed]"
          },
          "metadata": {
            "needs_background": "light"
          }
        }
      ]
    }
  ]
}